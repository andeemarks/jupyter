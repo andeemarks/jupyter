{
 "cells": [
  {
   "cell_type": "markdown",
   "id": "e6bd69f2",
   "metadata": {},
   "source": [
    "# Mid-Course Project\n",
    "\n",
    "Hi There, and thanks for your help. If you're reading this you've been selected to help on a secret initiative.\n",
    "\n",
    "You will be helping us analyze a portion of data from a company we want to acquire, which could greatly improve the fortunes of Maven Mega Mart.\n",
    "\n",
    "We'll be working with `project_transactions.csv` and briefly take a look at `product.csv`.\n",
    "\n",
    "First, read in the transactions data and explore it.\n",
    "\n",
    "* Take a look at the raw data, the datatypes, and cast `DAY`, `QUANTITY`, `STORE_ID`, and `WEEK_NO` columns to the smallest appropriate datatype. Check the memory reduction by doing so.\n",
    "* Is there any missing data?\n",
    "* How many unique households and products are there in the data? The fields household_key and Product_ID will help here."
   ]
  },
  {
   "cell_type": "code",
   "execution_count": 4,
   "id": "048c011c",
   "metadata": {},
   "outputs": [],
   "source": [
    "import pandas as pd\n",
    "import numpy as np"
   ]
  },
  {
   "cell_type": "code",
   "execution_count": 45,
   "id": "c019ac8e",
   "metadata": {},
   "outputs": [],
   "source": [
    "transactions = pd.read_csv(\"../project_data/project_transactions.csv\")"
   ]
  },
  {
   "cell_type": "code",
   "execution_count": null,
   "id": "20749686",
   "metadata": {},
   "outputs": [
    {
     "name": "stdout",
     "output_type": "stream",
     "text": [
      "<class 'pandas.core.frame.DataFrame'>\n",
      "RangeIndex: 2146311 entries, 0 to 2146310\n",
      "Data columns (total 11 columns):\n",
      " #   Column             Dtype  \n",
      "---  ------             -----  \n",
      " 0   household_key      int64  \n",
      " 1   BASKET_ID          int64  \n",
      " 2   DAY                int64  \n",
      " 3   PRODUCT_ID         int64  \n",
      " 4   QUANTITY           int64  \n",
      " 5   SALES_VALUE        float64\n",
      " 6   STORE_ID           int64  \n",
      " 7   RETAIL_DISC        float64\n",
      " 8   WEEK_NO            int64  \n",
      " 9   COUPON_DISC        float64\n",
      " 10  COUPON_MATCH_DISC  float64\n",
      "dtypes: float64(4), int64(7)\n",
      "memory usage: 180.1 MB\n"
     ]
    }
   ],
   "source": [
    "transactions.head()"
   ]
  },
  {
   "cell_type": "code",
   "execution_count": 13,
   "id": "4c10e5f5",
   "metadata": {},
   "outputs": [
    {
     "name": "stdout",
     "output_type": "stream",
     "text": [
      "<class 'pandas.core.frame.DataFrame'>\n",
      "RangeIndex: 2146311 entries, 0 to 2146310\n",
      "Data columns (total 11 columns):\n",
      " #   Column             Dtype  \n",
      "---  ------             -----  \n",
      " 0   household_key      int64  \n",
      " 1   BASKET_ID          int64  \n",
      " 2   DAY                int64  \n",
      " 3   PRODUCT_ID         int64  \n",
      " 4   QUANTITY           int64  \n",
      " 5   SALES_VALUE        float64\n",
      " 6   STORE_ID           int64  \n",
      " 7   RETAIL_DISC        float64\n",
      " 8   WEEK_NO            int64  \n",
      " 9   COUPON_DISC        float64\n",
      " 10  COUPON_MATCH_DISC  float64\n",
      "dtypes: float64(4), int64(7)\n",
      "memory usage: 180.1 MB\n"
     ]
    }
   ],
   "source": [
    "transactions.info(memory_usage=\"deep\")"
   ]
  },
  {
   "cell_type": "code",
   "execution_count": 10,
   "id": "22fb8381",
   "metadata": {},
   "outputs": [
    {
     "data": {
      "text/html": [
       "<div>\n",
       "<style scoped>\n",
       "    .dataframe tbody tr th:only-of-type {\n",
       "        vertical-align: middle;\n",
       "    }\n",
       "\n",
       "    .dataframe tbody tr th {\n",
       "        vertical-align: top;\n",
       "    }\n",
       "\n",
       "    .dataframe thead th {\n",
       "        text-align: right;\n",
       "    }\n",
       "</style>\n",
       "<table border=\"1\" class=\"dataframe\">\n",
       "  <thead>\n",
       "    <tr style=\"text-align: right;\">\n",
       "      <th></th>\n",
       "      <th>household_key</th>\n",
       "      <th>BASKET_ID</th>\n",
       "      <th>DAY</th>\n",
       "      <th>PRODUCT_ID</th>\n",
       "      <th>QUANTITY</th>\n",
       "      <th>SALES_VALUE</th>\n",
       "      <th>STORE_ID</th>\n",
       "      <th>RETAIL_DISC</th>\n",
       "      <th>WEEK_NO</th>\n",
       "      <th>COUPON_DISC</th>\n",
       "      <th>COUPON_MATCH_DISC</th>\n",
       "    </tr>\n",
       "  </thead>\n",
       "  <tbody>\n",
       "    <tr>\n",
       "      <th>count</th>\n",
       "      <td>2146311.0</td>\n",
       "      <td>2.146311e+06</td>\n",
       "      <td>2146311.0</td>\n",
       "      <td>2146311.0</td>\n",
       "      <td>2146311.0</td>\n",
       "      <td>2146311.0</td>\n",
       "      <td>2146311.0</td>\n",
       "      <td>2146311.0</td>\n",
       "      <td>2146311.0</td>\n",
       "      <td>2146311.0</td>\n",
       "      <td>2146311.0</td>\n",
       "    </tr>\n",
       "    <tr>\n",
       "      <th>mean</th>\n",
       "      <td>1056.0</td>\n",
       "      <td>3.404897e+10</td>\n",
       "      <td>390.0</td>\n",
       "      <td>2884715.0</td>\n",
       "      <td>101.0</td>\n",
       "      <td>3.0</td>\n",
       "      <td>3268.0</td>\n",
       "      <td>-1.0</td>\n",
       "      <td>56.0</td>\n",
       "      <td>-0.0</td>\n",
       "      <td>-0.0</td>\n",
       "    </tr>\n",
       "    <tr>\n",
       "      <th>std</th>\n",
       "      <td>605.0</td>\n",
       "      <td>4.723748e+09</td>\n",
       "      <td>190.0</td>\n",
       "      <td>3831949.0</td>\n",
       "      <td>1152.0</td>\n",
       "      <td>4.0</td>\n",
       "      <td>9122.0</td>\n",
       "      <td>1.0</td>\n",
       "      <td>27.0</td>\n",
       "      <td>0.0</td>\n",
       "      <td>0.0</td>\n",
       "    </tr>\n",
       "    <tr>\n",
       "      <th>min</th>\n",
       "      <td>1.0</td>\n",
       "      <td>2.698490e+10</td>\n",
       "      <td>1.0</td>\n",
       "      <td>25671.0</td>\n",
       "      <td>0.0</td>\n",
       "      <td>0.0</td>\n",
       "      <td>1.0</td>\n",
       "      <td>-130.0</td>\n",
       "      <td>1.0</td>\n",
       "      <td>-56.0</td>\n",
       "      <td>-8.0</td>\n",
       "    </tr>\n",
       "    <tr>\n",
       "      <th>25%</th>\n",
       "      <td>548.0</td>\n",
       "      <td>3.040798e+10</td>\n",
       "      <td>229.0</td>\n",
       "      <td>917231.0</td>\n",
       "      <td>1.0</td>\n",
       "      <td>1.0</td>\n",
       "      <td>330.0</td>\n",
       "      <td>-1.0</td>\n",
       "      <td>33.0</td>\n",
       "      <td>0.0</td>\n",
       "      <td>0.0</td>\n",
       "    </tr>\n",
       "    <tr>\n",
       "      <th>50%</th>\n",
       "      <td>1042.0</td>\n",
       "      <td>3.281176e+10</td>\n",
       "      <td>392.0</td>\n",
       "      <td>1027960.0</td>\n",
       "      <td>1.0</td>\n",
       "      <td>2.0</td>\n",
       "      <td>372.0</td>\n",
       "      <td>0.0</td>\n",
       "      <td>57.0</td>\n",
       "      <td>0.0</td>\n",
       "      <td>0.0</td>\n",
       "    </tr>\n",
       "    <tr>\n",
       "      <th>75%</th>\n",
       "      <td>1581.0</td>\n",
       "      <td>4.012804e+10</td>\n",
       "      <td>555.0</td>\n",
       "      <td>1132771.0</td>\n",
       "      <td>1.0</td>\n",
       "      <td>3.0</td>\n",
       "      <td>422.0</td>\n",
       "      <td>0.0</td>\n",
       "      <td>80.0</td>\n",
       "      <td>0.0</td>\n",
       "      <td>0.0</td>\n",
       "    </tr>\n",
       "    <tr>\n",
       "      <th>max</th>\n",
       "      <td>2099.0</td>\n",
       "      <td>4.230536e+10</td>\n",
       "      <td>711.0</td>\n",
       "      <td>18316298.0</td>\n",
       "      <td>89638.0</td>\n",
       "      <td>840.0</td>\n",
       "      <td>34280.0</td>\n",
       "      <td>4.0</td>\n",
       "      <td>102.0</td>\n",
       "      <td>0.0</td>\n",
       "      <td>0.0</td>\n",
       "    </tr>\n",
       "  </tbody>\n",
       "</table>\n",
       "</div>"
      ],
      "text/plain": [
       "       household_key     BASKET_ID        DAY  PRODUCT_ID   QUANTITY  \\\n",
       "count      2146311.0  2.146311e+06  2146311.0   2146311.0  2146311.0   \n",
       "mean          1056.0  3.404897e+10      390.0   2884715.0      101.0   \n",
       "std            605.0  4.723748e+09      190.0   3831949.0     1152.0   \n",
       "min              1.0  2.698490e+10        1.0     25671.0        0.0   \n",
       "25%            548.0  3.040798e+10      229.0    917231.0        1.0   \n",
       "50%           1042.0  3.281176e+10      392.0   1027960.0        1.0   \n",
       "75%           1581.0  4.012804e+10      555.0   1132771.0        1.0   \n",
       "max           2099.0  4.230536e+10      711.0  18316298.0    89638.0   \n",
       "\n",
       "       SALES_VALUE   STORE_ID  RETAIL_DISC    WEEK_NO  COUPON_DISC  \\\n",
       "count    2146311.0  2146311.0    2146311.0  2146311.0    2146311.0   \n",
       "mean           3.0     3268.0         -1.0       56.0         -0.0   \n",
       "std            4.0     9122.0          1.0       27.0          0.0   \n",
       "min            0.0        1.0       -130.0        1.0        -56.0   \n",
       "25%            1.0      330.0         -1.0       33.0          0.0   \n",
       "50%            2.0      372.0          0.0       57.0          0.0   \n",
       "75%            3.0      422.0          0.0       80.0          0.0   \n",
       "max          840.0    34280.0          4.0      102.0          0.0   \n",
       "\n",
       "       COUPON_MATCH_DISC  \n",
       "count          2146311.0  \n",
       "mean                -0.0  \n",
       "std                  0.0  \n",
       "min                 -8.0  \n",
       "25%                  0.0  \n",
       "50%                  0.0  \n",
       "75%                  0.0  \n",
       "max                  0.0  "
      ]
     },
     "execution_count": 10,
     "metadata": {},
     "output_type": "execute_result"
    }
   ],
   "source": [
    "transactions.describe().round()"
   ]
  },
  {
   "cell_type": "code",
   "execution_count": 46,
   "id": "c6fdf78f",
   "metadata": {},
   "outputs": [
    {
     "name": "stdout",
     "output_type": "stream",
     "text": [
      "<class 'pandas.core.frame.DataFrame'>\n",
      "RangeIndex: 2146311 entries, 0 to 2146310\n",
      "Data columns (total 11 columns):\n",
      " #   Column             Dtype  \n",
      "---  ------             -----  \n",
      " 0   household_key      int64  \n",
      " 1   BASKET_ID          int64  \n",
      " 2   DAY                int16  \n",
      " 3   PRODUCT_ID         int64  \n",
      " 4   QUANTITY           int32  \n",
      " 5   SALES_VALUE        float64\n",
      " 6   STORE_ID           int32  \n",
      " 7   RETAIL_DISC        float64\n",
      " 8   WEEK_NO            int8   \n",
      " 9   COUPON_DISC        float64\n",
      " 10  COUPON_MATCH_DISC  float64\n",
      "dtypes: float64(4), int16(1), int32(2), int64(3), int8(1)\n",
      "memory usage: 137.1 MB\n"
     ]
    }
   ],
   "source": [
    "# Take a look at the raw data, the datatypes, and cast `DAY`, `QUANTITY`, `STORE_ID`, and `WEEK_NO` columns to the smallest appropriate datatype. Check the memory reduction by doing so.\n",
    "transactions['DAY'] = transactions['DAY'].astype('int16')\n",
    "transactions['QUANTITY'] = transactions['QUANTITY'].astype('int32')\n",
    "transactions['STORE_ID'] = transactions['STORE_ID'].astype('int32')\n",
    "transactions['WEEK_NO'] = transactions['WEEK_NO'].astype('int8')\n",
    "transactions.info(memory_usage=\"deep\")"
   ]
  },
  {
   "cell_type": "code",
   "execution_count": 47,
   "id": "956ec362",
   "metadata": {},
   "outputs": [
    {
     "data": {
      "text/plain": [
       "household_key        0\n",
       "BASKET_ID            0\n",
       "DAY                  0\n",
       "PRODUCT_ID           0\n",
       "QUANTITY             0\n",
       "SALES_VALUE          0\n",
       "STORE_ID             0\n",
       "RETAIL_DISC          0\n",
       "WEEK_NO              0\n",
       "COUPON_DISC          0\n",
       "COUPON_MATCH_DISC    0\n",
       "dtype: int64"
      ]
     },
     "execution_count": 47,
     "metadata": {},
     "output_type": "execute_result"
    }
   ],
   "source": [
    "# Is there any missing data?\n",
    "transactions.isna().sum()"
   ]
  },
  {
   "cell_type": "code",
   "execution_count": 50,
   "id": "3995fbe5",
   "metadata": {},
   "outputs": [
    {
     "data": {
      "text/plain": [
       "2099"
      ]
     },
     "execution_count": 50,
     "metadata": {},
     "output_type": "execute_result"
    }
   ],
   "source": [
    "# How many unique households and products are there in the data? The fields household_key and Product_ID will help here.\n",
    "transactions['household_key'].nunique()\n"
   ]
  },
  {
   "cell_type": "code",
   "execution_count": 49,
   "id": "436c7dd6",
   "metadata": {},
   "outputs": [
    {
     "data": {
      "text/plain": [
       "84138"
      ]
     },
     "execution_count": 49,
     "metadata": {},
     "output_type": "execute_result"
    }
   ],
   "source": [
    "transactions['PRODUCT_ID'].nunique()"
   ]
  },
  {
   "cell_type": "code",
   "execution_count": null,
   "id": "e363ef5d",
   "metadata": {},
   "outputs": [],
   "source": []
  },
  {
   "cell_type": "code",
   "execution_count": null,
   "id": "6aa2b45d",
   "metadata": {},
   "outputs": [],
   "source": []
  },
  {
   "cell_type": "code",
   "execution_count": null,
   "id": "bed20b5b",
   "metadata": {},
   "outputs": [],
   "source": []
  },
  {
   "cell_type": "markdown",
   "id": "42983a48",
   "metadata": {},
   "source": [
    "## Column Creation\n",
    "\n",
    "Create two columns:\n",
    "\n",
    "* A column that captures the `total_discount` by row (sum of `RETAIL_DISC`, `COUPON_DISC`)\n",
    "* The percentage disount (`total_discount` / `SALES_VALUE`). Make sure this is positive (try `.abs()`).\n",
    "* If the percentage discount is greater than 1, set it equal to 1. If it is less than 0, set it to 0. \n",
    "* Drop the individual discount columns (`RETAIL_DISC`, `COUPON_DISC`, `COUPON_MATCH_DISC`).\n",
    "\n",
    "Feel free to overwrite the existing transaction DataFrame after making the modifications above."
   ]
  },
  {
   "cell_type": "code",
   "execution_count": 51,
   "id": "e0af83c4",
   "metadata": {},
   "outputs": [
    {
     "data": {
      "text/html": [
       "<div>\n",
       "<style scoped>\n",
       "    .dataframe tbody tr th:only-of-type {\n",
       "        vertical-align: middle;\n",
       "    }\n",
       "\n",
       "    .dataframe tbody tr th {\n",
       "        vertical-align: top;\n",
       "    }\n",
       "\n",
       "    .dataframe thead th {\n",
       "        text-align: right;\n",
       "    }\n",
       "</style>\n",
       "<table border=\"1\" class=\"dataframe\">\n",
       "  <thead>\n",
       "    <tr style=\"text-align: right;\">\n",
       "      <th></th>\n",
       "      <th>household_key</th>\n",
       "      <th>BASKET_ID</th>\n",
       "      <th>DAY</th>\n",
       "      <th>PRODUCT_ID</th>\n",
       "      <th>QUANTITY</th>\n",
       "      <th>SALES_VALUE</th>\n",
       "      <th>STORE_ID</th>\n",
       "      <th>RETAIL_DISC</th>\n",
       "      <th>WEEK_NO</th>\n",
       "      <th>COUPON_DISC</th>\n",
       "      <th>COUPON_MATCH_DISC</th>\n",
       "      <th>total_discount</th>\n",
       "      <th>percentage_discount</th>\n",
       "    </tr>\n",
       "  </thead>\n",
       "  <tbody>\n",
       "    <tr>\n",
       "      <th>0</th>\n",
       "      <td>1364</td>\n",
       "      <td>26984896261</td>\n",
       "      <td>1</td>\n",
       "      <td>842930</td>\n",
       "      <td>1</td>\n",
       "      <td>2.19</td>\n",
       "      <td>31742</td>\n",
       "      <td>0.00</td>\n",
       "      <td>1</td>\n",
       "      <td>0.0</td>\n",
       "      <td>0.0</td>\n",
       "      <td>0.00</td>\n",
       "      <td>0.000000</td>\n",
       "    </tr>\n",
       "    <tr>\n",
       "      <th>1</th>\n",
       "      <td>1364</td>\n",
       "      <td>26984896261</td>\n",
       "      <td>1</td>\n",
       "      <td>897044</td>\n",
       "      <td>1</td>\n",
       "      <td>2.99</td>\n",
       "      <td>31742</td>\n",
       "      <td>-0.40</td>\n",
       "      <td>1</td>\n",
       "      <td>0.0</td>\n",
       "      <td>0.0</td>\n",
       "      <td>-0.40</td>\n",
       "      <td>0.133779</td>\n",
       "    </tr>\n",
       "    <tr>\n",
       "      <th>2</th>\n",
       "      <td>1364</td>\n",
       "      <td>26984896261</td>\n",
       "      <td>1</td>\n",
       "      <td>920955</td>\n",
       "      <td>1</td>\n",
       "      <td>3.09</td>\n",
       "      <td>31742</td>\n",
       "      <td>0.00</td>\n",
       "      <td>1</td>\n",
       "      <td>0.0</td>\n",
       "      <td>0.0</td>\n",
       "      <td>0.00</td>\n",
       "      <td>0.000000</td>\n",
       "    </tr>\n",
       "    <tr>\n",
       "      <th>3</th>\n",
       "      <td>1364</td>\n",
       "      <td>26984896261</td>\n",
       "      <td>1</td>\n",
       "      <td>937406</td>\n",
       "      <td>1</td>\n",
       "      <td>2.50</td>\n",
       "      <td>31742</td>\n",
       "      <td>-0.99</td>\n",
       "      <td>1</td>\n",
       "      <td>0.0</td>\n",
       "      <td>0.0</td>\n",
       "      <td>-0.99</td>\n",
       "      <td>0.396000</td>\n",
       "    </tr>\n",
       "    <tr>\n",
       "      <th>4</th>\n",
       "      <td>1364</td>\n",
       "      <td>26984896261</td>\n",
       "      <td>1</td>\n",
       "      <td>981760</td>\n",
       "      <td>1</td>\n",
       "      <td>0.60</td>\n",
       "      <td>31742</td>\n",
       "      <td>-0.79</td>\n",
       "      <td>1</td>\n",
       "      <td>0.0</td>\n",
       "      <td>0.0</td>\n",
       "      <td>-0.79</td>\n",
       "      <td>1.000000</td>\n",
       "    </tr>\n",
       "  </tbody>\n",
       "</table>\n",
       "</div>"
      ],
      "text/plain": [
       "   household_key    BASKET_ID  DAY  PRODUCT_ID  QUANTITY  SALES_VALUE  \\\n",
       "0           1364  26984896261    1      842930         1         2.19   \n",
       "1           1364  26984896261    1      897044         1         2.99   \n",
       "2           1364  26984896261    1      920955         1         3.09   \n",
       "3           1364  26984896261    1      937406         1         2.50   \n",
       "4           1364  26984896261    1      981760         1         0.60   \n",
       "\n",
       "   STORE_ID  RETAIL_DISC  WEEK_NO  COUPON_DISC  COUPON_MATCH_DISC  \\\n",
       "0     31742         0.00        1          0.0                0.0   \n",
       "1     31742        -0.40        1          0.0                0.0   \n",
       "2     31742         0.00        1          0.0                0.0   \n",
       "3     31742        -0.99        1          0.0                0.0   \n",
       "4     31742        -0.79        1          0.0                0.0   \n",
       "\n",
       "   total_discount  percentage_discount  \n",
       "0            0.00             0.000000  \n",
       "1           -0.40             0.133779  \n",
       "2            0.00             0.000000  \n",
       "3           -0.99             0.396000  \n",
       "4           -0.79             1.000000  "
      ]
     },
     "execution_count": 51,
     "metadata": {},
     "output_type": "execute_result"
    }
   ],
   "source": [
    "transactions = transactions.assign(total_discount=transactions.RETAIL_DISC + transactions.COUPON_DISC)\n",
    "transactions = transactions.assign(percentage_discount=(transactions.total_discount / transactions.SALES_VALUE).abs())\n",
    "transactions['percentage_discount'] = np.where(transactions['percentage_discount'] > 1, 1, np.where(transactions['percentage_discount'] < 0, 0, transactions['percentage_discount']))\n",
    "transactions.head()"
   ]
  },
  {
   "cell_type": "code",
   "execution_count": 52,
   "id": "4e24dc05",
   "metadata": {},
   "outputs": [
    {
     "data": {
      "text/html": [
       "<div>\n",
       "<style scoped>\n",
       "    .dataframe tbody tr th:only-of-type {\n",
       "        vertical-align: middle;\n",
       "    }\n",
       "\n",
       "    .dataframe tbody tr th {\n",
       "        vertical-align: top;\n",
       "    }\n",
       "\n",
       "    .dataframe thead th {\n",
       "        text-align: right;\n",
       "    }\n",
       "</style>\n",
       "<table border=\"1\" class=\"dataframe\">\n",
       "  <thead>\n",
       "    <tr style=\"text-align: right;\">\n",
       "      <th></th>\n",
       "      <th>household_key</th>\n",
       "      <th>BASKET_ID</th>\n",
       "      <th>DAY</th>\n",
       "      <th>PRODUCT_ID</th>\n",
       "      <th>QUANTITY</th>\n",
       "      <th>SALES_VALUE</th>\n",
       "      <th>STORE_ID</th>\n",
       "      <th>WEEK_NO</th>\n",
       "      <th>total_discount</th>\n",
       "      <th>percentage_discount</th>\n",
       "    </tr>\n",
       "  </thead>\n",
       "  <tbody>\n",
       "    <tr>\n",
       "      <th>0</th>\n",
       "      <td>1364</td>\n",
       "      <td>26984896261</td>\n",
       "      <td>1</td>\n",
       "      <td>842930</td>\n",
       "      <td>1</td>\n",
       "      <td>2.19</td>\n",
       "      <td>31742</td>\n",
       "      <td>1</td>\n",
       "      <td>0.00</td>\n",
       "      <td>0.000000</td>\n",
       "    </tr>\n",
       "    <tr>\n",
       "      <th>1</th>\n",
       "      <td>1364</td>\n",
       "      <td>26984896261</td>\n",
       "      <td>1</td>\n",
       "      <td>897044</td>\n",
       "      <td>1</td>\n",
       "      <td>2.99</td>\n",
       "      <td>31742</td>\n",
       "      <td>1</td>\n",
       "      <td>-0.40</td>\n",
       "      <td>0.133779</td>\n",
       "    </tr>\n",
       "    <tr>\n",
       "      <th>2</th>\n",
       "      <td>1364</td>\n",
       "      <td>26984896261</td>\n",
       "      <td>1</td>\n",
       "      <td>920955</td>\n",
       "      <td>1</td>\n",
       "      <td>3.09</td>\n",
       "      <td>31742</td>\n",
       "      <td>1</td>\n",
       "      <td>0.00</td>\n",
       "      <td>0.000000</td>\n",
       "    </tr>\n",
       "    <tr>\n",
       "      <th>3</th>\n",
       "      <td>1364</td>\n",
       "      <td>26984896261</td>\n",
       "      <td>1</td>\n",
       "      <td>937406</td>\n",
       "      <td>1</td>\n",
       "      <td>2.50</td>\n",
       "      <td>31742</td>\n",
       "      <td>1</td>\n",
       "      <td>-0.99</td>\n",
       "      <td>0.396000</td>\n",
       "    </tr>\n",
       "    <tr>\n",
       "      <th>4</th>\n",
       "      <td>1364</td>\n",
       "      <td>26984896261</td>\n",
       "      <td>1</td>\n",
       "      <td>981760</td>\n",
       "      <td>1</td>\n",
       "      <td>0.60</td>\n",
       "      <td>31742</td>\n",
       "      <td>1</td>\n",
       "      <td>-0.79</td>\n",
       "      <td>1.000000</td>\n",
       "    </tr>\n",
       "  </tbody>\n",
       "</table>\n",
       "</div>"
      ],
      "text/plain": [
       "   household_key    BASKET_ID  DAY  PRODUCT_ID  QUANTITY  SALES_VALUE  \\\n",
       "0           1364  26984896261    1      842930         1         2.19   \n",
       "1           1364  26984896261    1      897044         1         2.99   \n",
       "2           1364  26984896261    1      920955         1         3.09   \n",
       "3           1364  26984896261    1      937406         1         2.50   \n",
       "4           1364  26984896261    1      981760         1         0.60   \n",
       "\n",
       "   STORE_ID  WEEK_NO  total_discount  percentage_discount  \n",
       "0     31742        1            0.00             0.000000  \n",
       "1     31742        1           -0.40             0.133779  \n",
       "2     31742        1            0.00             0.000000  \n",
       "3     31742        1           -0.99             0.396000  \n",
       "4     31742        1           -0.79             1.000000  "
      ]
     },
     "execution_count": 52,
     "metadata": {},
     "output_type": "execute_result"
    }
   ],
   "source": [
    "transactions.drop(['RETAIL_DISC', 'COUPON_DISC', 'COUPON_MATCH_DISC'], inplace=True, axis=1)\n",
    "transactions.head()"
   ]
  },
  {
   "cell_type": "markdown",
   "id": "7194e351",
   "metadata": {},
   "source": [
    "## Overall Statistics\n",
    "\n",
    "Calculate:\n",
    "\n",
    "* The total sales (sum of `SALES_VALUE`), \n",
    "* Total discount (sum of `total_discount`)\n",
    "* Overall percentage discount (sum of total_discount / sum of sales value)\n",
    "* Total quantity sold (sum of `QUANTITY`).\n",
    "* Max quantity sold in a single row. Inspect the row as well. Does this have a high discount percentage?\n",
    "* Total sales value per basket (sum of sales value / nunique basket_id).\n",
    "* Total sales value per household (sum of sales value / nunique household_key). "
   ]
  },
  {
   "cell_type": "code",
   "execution_count": null,
   "id": "8b828816",
   "metadata": {},
   "outputs": [
    {
     "data": {
      "text/plain": [
       "np.float64(-0.17680993627145006)"
      ]
     },
     "execution_count": 57,
     "metadata": {},
     "output_type": "execute_result"
    }
   ],
   "source": [
    "# * The total sales (sum of `SALES_VALUE`), \n",
    "# * Total discount (sum of `total_discount`)\n",
    "# * Overall percentage discount (sum of total_discount / sum of sales value)\n",
    "total_sales = transactions['SALES_VALUE'].sum().round()\n",
    "total_discount = transactions['total_discount'].sum().round()\n",
    "total_discount / total_sales"
   ]
  },
  {
   "cell_type": "code",
   "execution_count": null,
   "id": "4e041e76",
   "metadata": {},
   "outputs": [
    {
     "data": {
      "text/html": [
       "<div>\n",
       "<style scoped>\n",
       "    .dataframe tbody tr th:only-of-type {\n",
       "        vertical-align: middle;\n",
       "    }\n",
       "\n",
       "    .dataframe tbody tr th {\n",
       "        vertical-align: top;\n",
       "    }\n",
       "\n",
       "    .dataframe thead th {\n",
       "        text-align: right;\n",
       "    }\n",
       "</style>\n",
       "<table border=\"1\" class=\"dataframe\">\n",
       "  <thead>\n",
       "    <tr style=\"text-align: right;\">\n",
       "      <th></th>\n",
       "      <th>household_key</th>\n",
       "      <th>BASKET_ID</th>\n",
       "      <th>DAY</th>\n",
       "      <th>PRODUCT_ID</th>\n",
       "      <th>QUANTITY</th>\n",
       "      <th>SALES_VALUE</th>\n",
       "      <th>STORE_ID</th>\n",
       "      <th>WEEK_NO</th>\n",
       "      <th>total_discount</th>\n",
       "      <th>percentage_discount</th>\n",
       "    </tr>\n",
       "  </thead>\n",
       "  <tbody>\n",
       "    <tr>\n",
       "      <th>1442095</th>\n",
       "      <td>630</td>\n",
       "      <td>34749153595</td>\n",
       "      <td>503</td>\n",
       "      <td>6534178</td>\n",
       "      <td>89638</td>\n",
       "      <td>250.0</td>\n",
       "      <td>384</td>\n",
       "      <td>73</td>\n",
       "      <td>-13.45</td>\n",
       "      <td>0.0538</td>\n",
       "    </tr>\n",
       "  </tbody>\n",
       "</table>\n",
       "</div>"
      ],
      "text/plain": [
       "         household_key    BASKET_ID  DAY  PRODUCT_ID  QUANTITY  SALES_VALUE  \\\n",
       "1442095            630  34749153595  503     6534178     89638        250.0   \n",
       "\n",
       "         STORE_ID  WEEK_NO  total_discount  percentage_discount  \n",
       "1442095       384       73          -13.45               0.0538  "
      ]
     },
     "execution_count": 60,
     "metadata": {},
     "output_type": "execute_result"
    }
   ],
   "source": [
    "# Total quantity sold (sum of `QUANTITY`).\n",
    "# * Max quantity sold in a single row. Inspect the row as well. Does this have a high discount percentage?\n",
    "transactions['QUANTITY'].sum()\n",
    "transactions[transactions['QUANTITY'] == transactions['QUANTITY'].max()]"
   ]
  },
  {
   "cell_type": "code",
   "execution_count": 67,
   "id": "2250c8a8",
   "metadata": {},
   "outputs": [
    {
     "data": {
      "text/plain": [
       "np.float64(3176.0)"
      ]
     },
     "execution_count": 67,
     "metadata": {},
     "output_type": "execute_result"
    }
   ],
   "source": [
    "# * Total sales value per basket (sum of sales value / nunique basket_id).\n",
    "# * Total sales value per household (sum of sales value / nunique household_key). \n",
    "basket_count = transactions['BASKET_ID'].nunique()\n",
    "(total_sales / basket_count).round()\n",
    "\n",
    "household_count = transactions['household_key'].nunique()\n",
    "(total_sales / household_count).round()"
   ]
  },
  {
   "cell_type": "markdown",
   "id": "89016a20",
   "metadata": {},
   "source": [
    "## Household Analysis\n",
    "\n",
    "* Plot the distribution of total sales value purchased at the household level. \n",
    "* What were the top 10 households by quantity purchased?\n",
    "* What were the top 10 households by sales value?\n",
    "* Plot the total sales value for our top 10 households by value, ordered from highest to lowest.\n"
   ]
  },
  {
   "cell_type": "code",
   "execution_count": 229,
   "id": "c3e70a6b",
   "metadata": {},
   "outputs": [
    {
     "data": {
      "text/plain": [
       "<Axes: title={'center': 'Total sales value purchased per household'}, xlabel='Household', ylabel='Sales'>"
      ]
     },
     "execution_count": 229,
     "metadata": {},
     "output_type": "execute_result"
    },
    {
     "data": {
      "image/png": "[encoded data removed]",
      "text/plain": [
       "<Figure size 640x480 with 1 Axes>"
      ]
     },
     "metadata": {},
     "output_type": "display_data"
    }
   ],
   "source": [
    "# Plot the distribution of total sales value purchased at the household level. \n",
    "\n",
    "sales_by_household = (transactions.groupby('household_key'))\n",
    "\n",
    "(sales_by_household['SALES_VALUE']\n",
    ".agg('sum')\n",
    ".plot.hist(xlabel='Household', ylabel='Sales', title='Total sales value purchased per household'))"
   ]
  },
  {
   "cell_type": "code",
   "execution_count": 236,
   "id": "92654f01",
   "metadata": {},
   "outputs": [
    {
     "data": {
      "text/plain": [
       "(household_key\n",
       " 1023    38319.79\n",
       " 1609    27859.68\n",
       " 1453    21661.29\n",
       " 1430    20352.99\n",
       " 718     19299.86\n",
       " 707     19194.42\n",
       " 1653    19153.75\n",
       " 1111    18894.72\n",
       " 982     18790.34\n",
       " 400     18494.14\n",
       " Name: SALES_VALUE, dtype: float64,\n",
       " household_key\n",
       " 1023    4479917\n",
       " 755     3141769\n",
       " 1609    2146715\n",
       " 13      1863829\n",
       " 1430    1741892\n",
       " 1527    1734632\n",
       " 1762    1669880\n",
       " 707     1640193\n",
       " 1029    1496204\n",
       " 1314    1492863\n",
       " Name: QUANTITY, dtype: int32)"
      ]
     },
     "execution_count": 236,
     "metadata": {},
     "output_type": "execute_result"
    }
   ],
   "source": [
    "# What were the top 10 households by quantity purchased?\n",
    "# * What were the top 10 households by sales value?\n",
    "top_10_households_by_quantity = sales_by_household['QUANTITY'].agg('sum').sort_values(ascending=False).head(10)\n",
    "top_10_households_by_value = sales_by_household['SALES_VALUE'].agg('sum').sort_values(ascending=False).head(10)\n",
    "top_10_households_by_value, top_10_households_by_quantity"
   ]
  },
  {
   "cell_type": "code",
   "execution_count": 114,
   "id": "3a8e4d39",
   "metadata": {},
   "outputs": [
    {
     "data": {
      "text/plain": [
       "<Axes: title={'center': 'Total sales value purchased per household'}, xlabel='Sales', ylabel='Household'>"
      ]
     },
     "execution_count": 114,
     "metadata": {},
     "output_type": "execute_result"
    },
    {
     "data": {
      "image/png": "[encoded data removed]",
      "text/plain": [
       "<Figure size 640x480 with 1 Axes>"
      ]
     },
     "metadata": {},
     "output_type": "display_data"
    }
   ],
   "source": [
    "# Plot the total sales value for our top 10 households by value, ordered from highest to lowest.\n",
    "top_10_households_by_value.plot.barh(xlabel='Sales', ylabel='Household', title='Total sales value purchased per household')"
   ]
  },
  {
   "cell_type": "markdown",
   "id": "24204c05",
   "metadata": {},
   "source": [
    "## Product Analysis\n",
    "\n",
    "* Which products had the most sales by sales_value? Plot  a horizontal bar chart.\n",
    "* Did the top 10 selling items have a higher than average discount rate?\n",
    "* What was the most common `PRODUCT_ID` among rows with the households in our top 10 households by sales value?\n",
    "* Look up the names of the  top 10 products by sales in the `products.csv` dataset.\n",
    "* Look up the product name of the item that had the highest quantity sold in a single row."
   ]
  },
  {
   "cell_type": "code",
   "execution_count": 203,
   "id": "b78a084a",
   "metadata": {},
   "outputs": [
    {
     "data": {
      "text/plain": [
       "Index([1082185], dtype='int64', name='PRODUCT_ID')"
      ]
     },
     "execution_count": 203,
     "metadata": {},
     "output_type": "execute_result"
    },
    {
     "data": {
      "image/png": "[encoded data removed]",
      "text/plain": [
       "<Figure size 640x480 with 1 Axes>"
      ]
     },
     "metadata": {},
     "output_type": "display_data"
    }
   ],
   "source": [
    "# Which products had the most sales by sales_value? Plot  a horizontal bar chart.\n",
    "\n",
    "sales_by_product = (transactions.groupby('PRODUCT_ID'))['SALES_VALUE'].agg('sum').sort_values(ascending=False)\n",
    "sales_by_product.head(10).plot.barh(xlabel='Sales', ylabel='Product', title='10 top selling products')\n",
    "\n",
    "# Did the top 10 selling items have a higher than average discount rate?\n",
    "top_selling_products = sales_by_product.reset_index()['PRODUCT_ID'].head(10)\n",
    "# transactions.loc[transactions['PRODUCT_ID'].isin(top_selling_products.array)]['total_discount'].describe()\n",
    "average_discount_rate = transactions['total_discount'].mean()\n",
    "top_selling_product_discount_rate = transactions.loc[transactions['PRODUCT_ID'].isin(top_selling_products.array)]['total_discount'].mean()\n",
    "average_discount_rate, top_selling_product_discount_rate \n",
    "\n",
    "# What was the most common `PRODUCT_ID` among rows with the households in our top 10 households by sales value?\n",
    "top_10_household_tx = transactions.loc[transactions['household_key'].isin(top_10_households_by_value.index.array)]\n",
    "top_10_household_tx.groupby('PRODUCT_ID').agg('count').sort_values('QUANTITY', ascending=False).head(1).index"
   ]
  },
  {
   "cell_type": "code",
   "execution_count": 237,
   "id": "d09ad840",
   "metadata": {},
   "outputs": [
    {
     "data": {
      "text/html": [
       "<div>\n",
       "<style scoped>\n",
       "    .dataframe tbody tr th:only-of-type {\n",
       "        vertical-align: middle;\n",
       "    }\n",
       "\n",
       "    .dataframe tbody tr th {\n",
       "        vertical-align: top;\n",
       "    }\n",
       "\n",
       "    .dataframe thead th {\n",
       "        text-align: right;\n",
       "    }\n",
       "</style>\n",
       "<table border=\"1\" class=\"dataframe\">\n",
       "  <thead>\n",
       "    <tr style=\"text-align: right;\">\n",
       "      <th></th>\n",
       "      <th>PRODUCT_ID</th>\n",
       "      <th>MANUFACTURER</th>\n",
       "      <th>DEPARTMENT</th>\n",
       "      <th>BRAND</th>\n",
       "      <th>COMMODITY_DESC</th>\n",
       "      <th>SUB_COMMODITY_DESC</th>\n",
       "      <th>CURR_SIZE_OF_PRODUCT</th>\n",
       "    </tr>\n",
       "  </thead>\n",
       "  <tbody>\n",
       "    <tr>\n",
       "      <th>16863</th>\n",
       "      <td>916122</td>\n",
       "      <td>4314</td>\n",
       "      <td>MEAT</td>\n",
       "      <td>National</td>\n",
       "      <td>CHICKEN</td>\n",
       "      <td>CHICKEN BREAST BONELESS</td>\n",
       "      <td></td>\n",
       "    </tr>\n",
       "    <tr>\n",
       "      <th>25754</th>\n",
       "      <td>995242</td>\n",
       "      <td>69</td>\n",
       "      <td>GROCERY</td>\n",
       "      <td>Private</td>\n",
       "      <td>FLUID MILK PRODUCTS</td>\n",
       "      <td>FLUID MILK WHITE ONLY</td>\n",
       "      <td></td>\n",
       "    </tr>\n",
       "    <tr>\n",
       "      <th>29657</th>\n",
       "      <td>1029743</td>\n",
       "      <td>69</td>\n",
       "      <td>GROCERY</td>\n",
       "      <td>Private</td>\n",
       "      <td>FLUID MILK PRODUCTS</td>\n",
       "      <td>FLUID MILK WHITE ONLY</td>\n",
       "      <td>1 GA</td>\n",
       "    </tr>\n",
       "    <tr>\n",
       "      <th>35576</th>\n",
       "      <td>1082185</td>\n",
       "      <td>2</td>\n",
       "      <td>PRODUCE</td>\n",
       "      <td>National</td>\n",
       "      <td>TROPICAL FRUIT</td>\n",
       "      <td>BANANAS</td>\n",
       "      <td>40 LB</td>\n",
       "    </tr>\n",
       "    <tr>\n",
       "      <th>38262</th>\n",
       "      <td>1106523</td>\n",
       "      <td>69</td>\n",
       "      <td>GROCERY</td>\n",
       "      <td>Private</td>\n",
       "      <td>FLUID MILK PRODUCTS</td>\n",
       "      <td>FLUID MILK WHITE ONLY</td>\n",
       "      <td>1 GA</td>\n",
       "    </tr>\n",
       "    <tr>\n",
       "      <th>53097</th>\n",
       "      <td>5569230</td>\n",
       "      <td>1208</td>\n",
       "      <td>GROCERY</td>\n",
       "      <td>National</td>\n",
       "      <td>SOFT DRINKS</td>\n",
       "      <td>SOFT DRINKS 12/18&amp;15PK CAN CAR</td>\n",
       "      <td>12 OZ</td>\n",
       "    </tr>\n",
       "    <tr>\n",
       "      <th>57171</th>\n",
       "      <td>6533765</td>\n",
       "      <td>69</td>\n",
       "      <td>KIOSK-GAS</td>\n",
       "      <td>Private</td>\n",
       "      <td>FUEL</td>\n",
       "      <td>GASOLINE-REG UNLEADED</td>\n",
       "      <td></td>\n",
       "    </tr>\n",
       "    <tr>\n",
       "      <th>57181</th>\n",
       "      <td>6533889</td>\n",
       "      <td>69</td>\n",
       "      <td>MISC SALES TRAN</td>\n",
       "      <td>Private</td>\n",
       "      <td>COUPON/MISC ITEMS</td>\n",
       "      <td>GASOLINE-REG UNLEADED</td>\n",
       "      <td></td>\n",
       "    </tr>\n",
       "    <tr>\n",
       "      <th>57216</th>\n",
       "      <td>6534166</td>\n",
       "      <td>69</td>\n",
       "      <td>MISC SALES TRAN</td>\n",
       "      <td>Private</td>\n",
       "      <td>COUPON/MISC ITEMS</td>\n",
       "      <td>GASOLINE-REG UNLEADED</td>\n",
       "      <td></td>\n",
       "    </tr>\n",
       "    <tr>\n",
       "      <th>57221</th>\n",
       "      <td>6534178</td>\n",
       "      <td>69</td>\n",
       "      <td>KIOSK-GAS</td>\n",
       "      <td>Private</td>\n",
       "      <td>COUPON/MISC ITEMS</td>\n",
       "      <td>GASOLINE-REG UNLEADED</td>\n",
       "      <td></td>\n",
       "    </tr>\n",
       "  </tbody>\n",
       "</table>\n",
       "</div>"
      ],
      "text/plain": [
       "       PRODUCT_ID  MANUFACTURER       DEPARTMENT     BRAND  \\\n",
       "16863      916122          4314             MEAT  National   \n",
       "25754      995242            69          GROCERY   Private   \n",
       "29657     1029743            69          GROCERY   Private   \n",
       "35576     1082185             2          PRODUCE  National   \n",
       "38262     1106523            69          GROCERY   Private   \n",
       "53097     5569230          1208          GROCERY  National   \n",
       "57171     6533765            69        KIOSK-GAS   Private   \n",
       "57181     6533889            69  MISC SALES TRAN   Private   \n",
       "57216     6534166            69  MISC SALES TRAN   Private   \n",
       "57221     6534178            69        KIOSK-GAS   Private   \n",
       "\n",
       "            COMMODITY_DESC              SUB_COMMODITY_DESC  \\\n",
       "16863              CHICKEN         CHICKEN BREAST BONELESS   \n",
       "25754  FLUID MILK PRODUCTS           FLUID MILK WHITE ONLY   \n",
       "29657  FLUID MILK PRODUCTS           FLUID MILK WHITE ONLY   \n",
       "35576       TROPICAL FRUIT                         BANANAS   \n",
       "38262  FLUID MILK PRODUCTS           FLUID MILK WHITE ONLY   \n",
       "53097          SOFT DRINKS  SOFT DRINKS 12/18&15PK CAN CAR   \n",
       "57171                 FUEL           GASOLINE-REG UNLEADED   \n",
       "57181    COUPON/MISC ITEMS           GASOLINE-REG UNLEADED   \n",
       "57216    COUPON/MISC ITEMS           GASOLINE-REG UNLEADED   \n",
       "57221    COUPON/MISC ITEMS           GASOLINE-REG UNLEADED   \n",
       "\n",
       "      CURR_SIZE_OF_PRODUCT  \n",
       "16863                       \n",
       "25754                       \n",
       "29657                 1 GA  \n",
       "35576                40 LB  \n",
       "38262                 1 GA  \n",
       "53097                12 OZ  \n",
       "57171                       \n",
       "57181                       \n",
       "57216                       \n",
       "57221                       "
      ]
     },
     "execution_count": 237,
     "metadata": {},
     "output_type": "execute_result"
    }
   ],
   "source": [
    "products = pd.read_csv(\"../project_data/product.csv\")\n",
    "products.head()\n",
    "\n",
    "# Look up the names of the  top 10 products by sales in the `products.csv` dataset.\n",
    "top_selling_products\n",
    "products.loc[products['PRODUCT_ID'].isin(top_selling_products)]\n",
    "# * Look up the product name of the item that had the highest quantity sold in a single row.\n"
   ]
  },
  {
   "cell_type": "code",
   "execution_count": 226,
   "id": "cb004525",
   "metadata": {},
   "outputs": [
    {
     "data": {
      "text/html": [
       "<div>\n",
       "<style scoped>\n",
       "    .dataframe tbody tr th:only-of-type {\n",
       "        vertical-align: middle;\n",
       "    }\n",
       "\n",
       "    .dataframe tbody tr th {\n",
       "        vertical-align: top;\n",
       "    }\n",
       "\n",
       "    .dataframe thead th {\n",
       "        text-align: right;\n",
       "    }\n",
       "</style>\n",
       "<table border=\"1\" class=\"dataframe\">\n",
       "  <thead>\n",
       "    <tr style=\"text-align: right;\">\n",
       "      <th></th>\n",
       "      <th>PRODUCT_ID</th>\n",
       "      <th>MANUFACTURER</th>\n",
       "      <th>DEPARTMENT</th>\n",
       "      <th>BRAND</th>\n",
       "      <th>COMMODITY_DESC</th>\n",
       "      <th>SUB_COMMODITY_DESC</th>\n",
       "      <th>CURR_SIZE_OF_PRODUCT</th>\n",
       "    </tr>\n",
       "  </thead>\n",
       "  <tbody>\n",
       "    <tr>\n",
       "      <th>57221</th>\n",
       "      <td>6534178</td>\n",
       "      <td>69</td>\n",
       "      <td>KIOSK-GAS</td>\n",
       "      <td>Private</td>\n",
       "      <td>COUPON/MISC ITEMS</td>\n",
       "      <td>GASOLINE-REG UNLEADED</td>\n",
       "      <td></td>\n",
       "    </tr>\n",
       "  </tbody>\n",
       "</table>\n",
       "</div>"
      ],
      "text/plain": [
       "       PRODUCT_ID  MANUFACTURER DEPARTMENT    BRAND     COMMODITY_DESC  \\\n",
       "57221     6534178            69  KIOSK-GAS  Private  COUPON/MISC ITEMS   \n",
       "\n",
       "          SUB_COMMODITY_DESC CURR_SIZE_OF_PRODUCT  \n",
       "57221  GASOLINE-REG UNLEADED                       "
      ]
     },
     "execution_count": 226,
     "metadata": {},
     "output_type": "execute_result"
    }
   ],
   "source": [
    "transactions.loc[transactions['QUANTITY']==89638]['PRODUCT_ID']\n",
    "# products.head()\n",
    "products.query('PRODUCT_ID == 6534178')"
   ]
  }
 ],
 "metadata": {
  "kernelspec": {
   "display_name": "Python 3",
   "language": "python",
   "name": "python3"
  },
  "language_info": {
   "codemirror_mode": {
    "name": "ipython",
    "version": 3
   },
   "file_extension": ".py",
   "mimetype": "text/x-python",
   "name": "python",
   "nbconvert_exporter": "python",
   "pygments_lexer": "ipython3",
   "version": "3.12.10"
  }
 },
 "nbformat": 4,
 "nbformat_minor": 5
}
